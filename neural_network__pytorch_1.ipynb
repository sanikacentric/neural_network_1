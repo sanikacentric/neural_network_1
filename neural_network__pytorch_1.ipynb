{
  "nbformat": 4,
  "nbformat_minor": 0,
  "metadata": {
    "colab": {
      "provenance": []
    },
    "kernelspec": {
      "name": "python3",
      "display_name": "Python 3"
    },
    "language_info": {
      "name": "python"
    }
  },
  "cells": [
    {
      "cell_type": "markdown",
      "source": [
        "NN module dataset and dataloader gredient training of nn on some data transformer code\n",
        "\n",
        "PyTorch makes differentiation (computing gradients) easy and efficient by providing the autograd package. This allows you to automatically compute the gradients of tensors during backpropagation, which is essential for training machine learning models, particularly in deep learning.\n",
        "\n",
        "cpu - numpy\n",
        "gpu - pytorch\n",
        "\n",
        "#Concept of autograd\n",
        "#NN Module of Pytorch\n",
        "#Dataset and Dataloader"
      ],
      "metadata": {
        "id": "sHs8gQU5o1dA"
      }
    },
    {
      "cell_type": "code",
      "source": [
        "def dy_dx(x):\n",
        "  return 2*x"
      ],
      "metadata": {
        "id": "pI4Xym8Uo4BH"
      },
      "execution_count": 28,
      "outputs": []
    },
    {
      "cell_type": "code",
      "source": [
        "dy_dx(4)"
      ],
      "metadata": {
        "colab": {
          "base_uri": "https://localhost:8080/"
        },
        "id": "KBmvst4PpHK_",
        "outputId": "91ede034-e731-44ae-b061-f19a25633563"
      },
      "execution_count": 39,
      "outputs": [
        {
          "output_type": "execute_result",
          "data": {
            "text/plain": [
              "8"
            ]
          },
          "metadata": {},
          "execution_count": 39
        }
      ]
    },
    {
      "cell_type": "code",
      "source": [
        "import torch\n",
        "x=torch.tensor(3.0,requires_grad=True)"
      ],
      "metadata": {
        "id": "3f6b0SX5pYLg"
      },
      "execution_count": 40,
      "outputs": []
    },
    {
      "cell_type": "code",
      "source": [
        "x"
      ],
      "metadata": {
        "colab": {
          "base_uri": "https://localhost:8080/"
        },
        "id": "9ny8F9H4p1ao",
        "outputId": "2ca40905-be61-4fa0-e154-cdc5bd5cb849"
      },
      "execution_count": 41,
      "outputs": [
        {
          "output_type": "execute_result",
          "data": {
            "text/plain": [
              "tensor(3., requires_grad=True)"
            ]
          },
          "metadata": {},
          "execution_count": 41
        }
      ]
    },
    {
      "cell_type": "code",
      "source": [
        "y=x**2 ##FORWARD PROPAGATION"
      ],
      "metadata": {
        "id": "WkDGIh0Dp4j2"
      },
      "execution_count": 42,
      "outputs": []
    },
    {
      "cell_type": "code",
      "source": [
        "y ##############forward propagation"
      ],
      "metadata": {
        "colab": {
          "base_uri": "https://localhost:8080/"
        },
        "id": "7FcvyBAHp8nn",
        "outputId": "e10343ae-5515-4d48-a787-fae6cc07a43f"
      },
      "execution_count": 43,
      "outputs": [
        {
          "output_type": "execute_result",
          "data": {
            "text/plain": [
              "tensor(9., grad_fn=<PowBackward0>)"
            ]
          },
          "metadata": {},
          "execution_count": 43
        }
      ]
    },
    {
      "cell_type": "code",
      "source": [
        "y=2*x"
      ],
      "metadata": {
        "id": "3H3Dag2xBTuQ"
      },
      "execution_count": 44,
      "outputs": []
    },
    {
      "cell_type": "code",
      "source": [
        "y"
      ],
      "metadata": {
        "colab": {
          "base_uri": "https://localhost:8080/"
        },
        "id": "1vB7-_2gCa5G",
        "outputId": "c40c7f6e-6474-4b08-ed98-45d03334db02"
      },
      "execution_count": 45,
      "outputs": [
        {
          "output_type": "execute_result",
          "data": {
            "text/plain": [
              "tensor(6., grad_fn=<MulBackward0>)"
            ]
          },
          "metadata": {},
          "execution_count": 45
        }
      ]
    },
    {
      "cell_type": "code",
      "source": [
        "##to cal derivate we have to do back\n",
        "y.backward()"
      ],
      "metadata": {
        "id": "a0UC-PC_qFvd"
      },
      "execution_count": 46,
      "outputs": []
    },
    {
      "cell_type": "code",
      "source": [
        "x.grad"
      ],
      "metadata": {
        "colab": {
          "base_uri": "https://localhost:8080/"
        },
        "id": "xJ00_H5vq26U",
        "outputId": "35174810-f45d-42ac-95c3-b0c1f2b673d7"
      },
      "execution_count": 47,
      "outputs": [
        {
          "output_type": "execute_result",
          "data": {
            "text/plain": [
              "tensor(2.)"
            ]
          },
          "metadata": {},
          "execution_count": 47
        }
      ]
    },
    {
      "cell_type": "code",
      "source": [
        "import math\n",
        "def dz_dx(x):\n",
        "    return 2*x*math.cos(x**2)"
      ],
      "metadata": {
        "id": "piT5IHFXyGNd"
      },
      "execution_count": 48,
      "outputs": []
    },
    {
      "cell_type": "code",
      "source": [
        "dz_dx(3)"
      ],
      "metadata": {
        "colab": {
          "base_uri": "https://localhost:8080/"
        },
        "id": "WDmzRh6UyJ0G",
        "outputId": "c99f837d-f690-437b-ed05-762a5ec3bcb6"
      },
      "execution_count": 49,
      "outputs": [
        {
          "output_type": "execute_result",
          "data": {
            "text/plain": [
              "-5.466781571308061"
            ]
          },
          "metadata": {},
          "execution_count": 49
        }
      ]
    },
    {
      "cell_type": "code",
      "source": [
        "dz_dx(5)"
      ],
      "metadata": {
        "colab": {
          "base_uri": "https://localhost:8080/"
        },
        "id": "-lv_GYseyMW1",
        "outputId": "6835d294-9e4d-4a36-8d55-a840c1e479f8"
      },
      "execution_count": 50,
      "outputs": [
        {
          "output_type": "execute_result",
          "data": {
            "text/plain": [
              "9.912028118634735"
            ]
          },
          "metadata": {},
          "execution_count": 50
        }
      ]
    },
    {
      "cell_type": "code",
      "source": [
        "x=torch.tensor(3.0,requires_grad=True)"
      ],
      "metadata": {
        "id": "VXyrvkouyOnG"
      },
      "execution_count": 51,
      "outputs": []
    },
    {
      "cell_type": "code",
      "source": [
        "x"
      ],
      "metadata": {
        "colab": {
          "base_uri": "https://localhost:8080/"
        },
        "id": "4VUSURgYySvl",
        "outputId": "208429db-6765-4fae-b1b6-25b6d54b617b"
      },
      "execution_count": 52,
      "outputs": [
        {
          "output_type": "execute_result",
          "data": {
            "text/plain": [
              "tensor(3., requires_grad=True)"
            ]
          },
          "metadata": {},
          "execution_count": 52
        }
      ]
    },
    {
      "cell_type": "code",
      "source": [
        "y=x**2\n",
        "z=torch.sin(y)"
      ],
      "metadata": {
        "id": "tICsI5IMyUD9"
      },
      "execution_count": 53,
      "outputs": []
    },
    {
      "cell_type": "code",
      "source": [
        "y"
      ],
      "metadata": {
        "colab": {
          "base_uri": "https://localhost:8080/"
        },
        "id": "YjWVaOepyY3V",
        "outputId": "7c28cf92-c04b-49ea-faff-09ae07a7059f"
      },
      "execution_count": 54,
      "outputs": [
        {
          "output_type": "execute_result",
          "data": {
            "text/plain": [
              "tensor(9., grad_fn=<PowBackward0>)"
            ]
          },
          "metadata": {},
          "execution_count": 54
        }
      ]
    },
    {
      "cell_type": "code",
      "source": [
        "z"
      ],
      "metadata": {
        "colab": {
          "base_uri": "https://localhost:8080/"
        },
        "id": "SWyY4HTFybkN",
        "outputId": "bf4afdcc-51fa-46a9-8bb8-1a6b467219a2"
      },
      "execution_count": null,
      "outputs": [
        {
          "output_type": "execute_result",
          "data": {
            "text/plain": [
              "tensor(0.4121, grad_fn=<SinBackward0>)"
            ]
          },
          "metadata": {},
          "execution_count": 16
        }
      ]
    },
    {
      "cell_type": "code",
      "source": [
        "z.backward() ########calculate gradient"
      ],
      "metadata": {
        "id": "Ptf7Ob-n0KP7"
      },
      "execution_count": 55,
      "outputs": []
    },
    {
      "cell_type": "code",
      "source": [
        "x.grad"
      ],
      "metadata": {
        "colab": {
          "base_uri": "https://localhost:8080/"
        },
        "id": "07KprsC00Ppz",
        "outputId": "e1d0a46d-41bf-4a0c-9446-7af5a5338d36"
      },
      "execution_count": 56,
      "outputs": [
        {
          "output_type": "execute_result",
          "data": {
            "text/plain": [
              "tensor(-5.4668)"
            ]
          },
          "metadata": {},
          "execution_count": 56
        }
      ]
    },
    {
      "cell_type": "code",
      "source": [
        "import torch.nn as nn"
      ],
      "metadata": {
        "id": "IuH0mzz1J6OU"
      },
      "execution_count": 58,
      "outputs": []
    },
    {
      "cell_type": "code",
      "source": [
        "###CONSTRUCTOR OF PARENT CLASS(nn.Module)\n",
        "class Model(nn.Module):\n",
        "    def __init__(self,new_features):\n",
        "        super().__init__()\n",
        "        self.linear=nn.Linear(new_features,1) ###  features and 1 is hidden layer\n",
        "        self.sigmoid=nn.Sigmoid()\n",
        "    def forward(self,features):\n",
        "        out=self.linear(features)\n",
        "        out=self.sigmoid(out)\n",
        "        return out\n"
      ],
      "metadata": {
        "id": "Pv2EjIc6WsQu"
      },
      "execution_count": 98,
      "outputs": []
    },
    {
      "cell_type": "code",
      "source": [
        "torch.rand(10,5)"
      ],
      "metadata": {
        "colab": {
          "base_uri": "https://localhost:8080/"
        },
        "id": "ZBiEzSNmYiEc",
        "outputId": "956ae70b-b23d-44b8-f2af-efa010ea30d5"
      },
      "execution_count": 99,
      "outputs": [
        {
          "output_type": "execute_result",
          "data": {
            "text/plain": [
              "tensor([[0.9191, 0.0656, 0.6829, 0.7186, 0.5106],\n",
              "        [0.2955, 0.0997, 0.6014, 0.4595, 0.5742],\n",
              "        [0.3450, 0.0459, 0.5531, 0.0040, 0.1201],\n",
              "        [0.9197, 0.5622, 0.4236, 0.4814, 0.2392],\n",
              "        [0.0670, 0.6430, 0.6900, 0.0669, 0.0693],\n",
              "        [0.4561, 0.6038, 0.1852, 0.6167, 0.6331],\n",
              "        [0.6297, 0.9893, 0.9392, 0.1004, 0.8215],\n",
              "        [0.1081, 0.5007, 0.2819, 0.3029, 0.1524],\n",
              "        [0.3776, 0.7217, 0.1744, 0.7189, 0.9823],\n",
              "        [0.7392, 0.3778, 0.3517, 0.8522, 0.3114]])"
            ]
          },
          "metadata": {},
          "execution_count": 99
        }
      ]
    },
    {
      "cell_type": "code",
      "source": [
        "data=torch.rand(10,5)"
      ],
      "metadata": {
        "id": "s2HPG-oFZuA5"
      },
      "execution_count": 100,
      "outputs": []
    },
    {
      "cell_type": "code",
      "source": [
        "data.shape"
      ],
      "metadata": {
        "colab": {
          "base_uri": "https://localhost:8080/"
        },
        "id": "wjDVgDO7ZwwC",
        "outputId": "bd65dfd1-e70f-4d05-97ae-3346f5328877"
      },
      "execution_count": 101,
      "outputs": [
        {
          "output_type": "execute_result",
          "data": {
            "text/plain": [
              "torch.Size([10, 5])"
            ]
          },
          "metadata": {},
          "execution_count": 101
        }
      ]
    },
    {
      "cell_type": "code",
      "source": [
        "data.shape[1] ### 5 is the features"
      ],
      "metadata": {
        "colab": {
          "base_uri": "https://localhost:8080/"
        },
        "id": "sgnTHHXgZz55",
        "outputId": "2e136f19-9925-47b3-9f27-767a470e3ded"
      },
      "execution_count": 102,
      "outputs": [
        {
          "output_type": "execute_result",
          "data": {
            "text/plain": [
              "5"
            ]
          },
          "metadata": {},
          "execution_count": 102
        }
      ]
    },
    {
      "cell_type": "code",
      "source": [
        "model = Model(data.shape[1])###initialize"
      ],
      "metadata": {
        "id": "dkklMokUaG0x"
      },
      "execution_count": 103,
      "outputs": []
    },
    {
      "cell_type": "code",
      "source": [
        "class test:\n",
        "  def __init__(self):\n",
        "      print(\"hello from init\")\n",
        "  def __call__(self):\n",
        "      print(\"hello from call\")\n",
        "  def testing(self):\n",
        "      print(\"hello from testing\")"
      ],
      "metadata": {
        "id": "vIkQd1IhegrW"
      },
      "execution_count": 104,
      "outputs": []
    },
    {
      "cell_type": "code",
      "source": [
        "obj=test()"
      ],
      "metadata": {
        "colab": {
          "base_uri": "https://localhost:8080/"
        },
        "id": "Fc_6Sht0e-HF",
        "outputId": "a1b29f81-3834-4318-cf78-5634c523bd6b"
      },
      "execution_count": 105,
      "outputs": [
        {
          "output_type": "stream",
          "name": "stdout",
          "text": [
            "hello from init\n"
          ]
        }
      ]
    },
    {
      "cell_type": "code",
      "source": [
        "obj.testing()"
      ],
      "metadata": {
        "colab": {
          "base_uri": "https://localhost:8080/"
        },
        "id": "-U0caPkrfG0E",
        "outputId": "b570fea4-ed86-4608-fd56-b304b9aaa723"
      },
      "execution_count": 106,
      "outputs": [
        {
          "output_type": "stream",
          "name": "stdout",
          "text": [
            "hello from testing\n"
          ]
        }
      ]
    },
    {
      "cell_type": "code",
      "source": [
        "obj() ### object as a function is called then we get \"hello from call\" -> if we call object as a function in backend we call def __call__(self). so inside nn.module we have function(def__call(self))"
      ],
      "metadata": {
        "colab": {
          "base_uri": "https://localhost:8080/"
        },
        "id": "Y0SCcVn_fKAV",
        "outputId": "4674a575-fac3-4439-8416-d16b8786f227"
      },
      "execution_count": 107,
      "outputs": [
        {
          "output_type": "stream",
          "name": "stdout",
          "text": [
            "hello from call\n"
          ]
        }
      ]
    },
    {
      "cell_type": "code",
      "source": [
        "model(data)"
      ],
      "metadata": {
        "colab": {
          "base_uri": "https://localhost:8080/"
        },
        "id": "7BN1iIZsfbwL",
        "outputId": "38585557-a384-42f9-cf80-da4c485a6611"
      },
      "execution_count": 108,
      "outputs": [
        {
          "output_type": "execute_result",
          "data": {
            "text/plain": [
              "tensor([[0.5068],\n",
              "        [0.5181],\n",
              "        [0.5198],\n",
              "        [0.5369],\n",
              "        [0.5208],\n",
              "        [0.5117],\n",
              "        [0.5496],\n",
              "        [0.5600],\n",
              "        [0.4873],\n",
              "        [0.5018]], grad_fn=<SigmoidBackward0>)"
            ]
          },
          "metadata": {},
          "execution_count": 108
        }
      ]
    },
    {
      "cell_type": "code",
      "source": [
        "model.forward(data)"
      ],
      "metadata": {
        "colab": {
          "base_uri": "https://localhost:8080/"
        },
        "id": "7_5lAflqgVaq",
        "outputId": "262de1fc-20de-4e86-aeee-9543359df92d"
      },
      "execution_count": 109,
      "outputs": [
        {
          "output_type": "execute_result",
          "data": {
            "text/plain": [
              "tensor([[0.5068],\n",
              "        [0.5181],\n",
              "        [0.5198],\n",
              "        [0.5369],\n",
              "        [0.5208],\n",
              "        [0.5117],\n",
              "        [0.5496],\n",
              "        [0.5600],\n",
              "        [0.4873],\n",
              "        [0.5018]], grad_fn=<SigmoidBackward0>)"
            ]
          },
          "metadata": {},
          "execution_count": 109
        }
      ]
    }
  ]
}